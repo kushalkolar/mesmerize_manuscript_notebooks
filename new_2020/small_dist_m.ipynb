{
 "cells": [
  {
   "cell_type": "code",
   "execution_count": 1,
   "metadata": {},
   "outputs": [
    {
     "name": "stderr",
     "output_type": "stream",
     "text": [
      "/home/kushal/python-venvs/mesmerize/lib/python3.6/site-packages/sklearn/utils/deprecation.py:143: FutureWarning: The sklearn.cluster.k_means_ module is  deprecated in version 0.22 and will be removed in version 0.24. The corresponding classes / functions should instead be imported from sklearn.cluster. Anything that cannot be imported from sklearn.cluster is now part of the private API.\n",
      "  warnings.warn(message, FutureWarning)\n"
     ]
    }
   ],
   "source": [
    "import numpy as np\n",
    "from matplotlib import pyplot as plt\n",
    "import seaborn as sns\n",
    "from scipy.cluster.hierarchy import linkage, fcluster, cophenet, leaves_list\n",
    "from scipy.spatial.distance import squareform\n",
    "\n",
    "from mesmerize import Transmission\n",
    "from mesmerize.analysis.math.emd import emd_1d\n",
    "from sklearn.metrics import pairwise_distances, silhouette_score\n",
    "import pandas as pd"
   ]
  },
  {
   "cell_type": "code",
   "execution_count": 2,
   "metadata": {},
   "outputs": [],
   "source": [
    "import numpy as np\n",
    "import pandas as pd\n",
    "from scipy.cluster.hierarchy import linkage, leaves_list\n",
    "\n",
    "\n",
    "# Adapted from the navis package:\n",
    "# https://github.com/schlegelp/navis/blob/d1da4666464988f60a056bc767bfcc3ef943ef43/navis/clustering/cluster.py#L683\n",
    "def calc_agg_coeff(lkg) -> float:\n",
    "    \"\"\"\n",
    "    Calculate the agglomerative coefficient.\n",
    "\n",
    "    This measures the clustering structure of the linkage matrix. Because\n",
    "    it grows with the number of observations, this measure should not be\n",
    "    used to compare datasets of very different sizes.\n",
    "\n",
    "    For each observation i, denote by m(i) its dissimilarity to the first\n",
    "    cluster it is merged with, divided by the dissimilarity of the merger\n",
    "    in the final step of the algorithm. The agglomerative coefficient is\n",
    "    the average of all 1 - m(i).\n",
    "    \n",
    "    Parameters\n",
    "    ----------\n",
    "    lkg: np.ndarray\n",
    "        Linkage matrix returned from scipy.cluster.hierarchy.linkage\n",
    "    \n",
    "    Returns\n",
    "    -------\n",
    "    float\n",
    "        Agglomerative Coefficient\n",
    "    \n",
    "    \"\"\"\n",
    "    # Turn into pandas DataFrame for fancy indexing\n",
    "    Z = pd.DataFrame(lkg, columns=['obs1', 'obs2', 'dist', 'n_org'])\n",
    "    \n",
    "    leaves = leaves_list(lkg)\n",
    "\n",
    "    # Get all distances at which an original observation is merged\n",
    "    all_dist = Z[(Z.obs1.isin(leaves)) | (Z.obs2.isin(leaves))].dist.values\n",
    "\n",
    "    # Divide all distances by last merger\n",
    "    all_dist /= lkg[-1][2]\n",
    "\n",
    "    # Calc final coefficient\n",
    "    coeff = np.mean(1 - all_dist)\n",
    "\n",
    "    return coeff"
   ]
  },
  {
   "cell_type": "code",
   "execution_count": 3,
   "metadata": {},
   "outputs": [],
   "source": [
    "d_emd = np.loadtxt('/home/kushal/Sars_stuff/DM_EMD.txt')\n",
    "\n",
    "d_euc = np.loadtxt('/home/kushal/Sars_stuff/DM_EUC_FFT.txt')"
   ]
  },
  {
   "cell_type": "code",
   "execution_count": 4,
   "metadata": {},
   "outputs": [
    {
     "data": {
      "text/plain": [
       "<matplotlib.axes._subplots.AxesSubplot at 0x7f6d0d4d3898>"
      ]
     },
     "execution_count": 4,
     "metadata": {},
     "output_type": "execute_result"
    },
    {
     "data": {
      "image/png": "[encoded data removed]",
      "text/plain": [
       "<Figure size 432x288 with 2 Axes>"
      ]
     },
     "metadata": {
      "needs_background": "light"
     },
     "output_type": "display_data"
    }
   ],
   "source": [
    "sns.heatmap(d_emd)"
   ]
  },
  {
   "cell_type": "code",
   "execution_count": 5,
   "metadata": {},
   "outputs": [
    {
     "data": {
      "text/plain": [
       "<matplotlib.axes._subplots.AxesSubplot at 0x7f6d0d3acbe0>"
      ]
     },
     "execution_count": 5,
     "metadata": {},
     "output_type": "execute_result"
    },
    {
     "data": {
      "image/png": "[encoded data removed]",
      "text/plain": [
       "<Figure size 432x288 with 2 Axes>"
      ]
     },
     "metadata": {
      "needs_background": "light"
     },
     "output_type": "display_data"
    }
   ],
   "source": [
    "sns.heatmap(d_euc)"
   ]
  },
  {
   "cell_type": "code",
   "execution_count": 6,
   "metadata": {},
   "outputs": [],
   "source": [
    "d_emd = squareform(d_emd, checks=False)\n",
    "d_euc = squareform(d_euc, checks=False)"
   ]
  },
  {
   "cell_type": "code",
   "execution_count": 7,
   "metadata": {},
   "outputs": [],
   "source": [
    "Z_emd = linkage(d_emd, method='complete', optimal_ordering=True)\n",
    "Z_euc = linkage(d_euc, method='complete', optimal_ordering=True)"
   ]
  },
  {
   "cell_type": "code",
   "execution_count": 8,
   "metadata": {},
   "outputs": [
    {
     "data": {
      "text/plain": [
       "0.8411572356393862"
      ]
     },
     "execution_count": 8,
     "metadata": {},
     "output_type": "execute_result"
    }
   ],
   "source": [
    "calc_agg_coeff(Z_emd)"
   ]
  },
  {
   "cell_type": "code",
   "execution_count": 9,
   "metadata": {},
   "outputs": [
    {
     "data": {
      "text/plain": [
       "0.5736315154229096"
      ]
     },
     "execution_count": 9,
     "metadata": {},
     "output_type": "execute_result"
    }
   ],
   "source": [
    "calc_agg_coeff(Z_euc)"
   ]
  }
 ],
 "metadata": {
  "kernelspec": {
   "display_name": "Python 3",
   "language": "python",
   "name": "python3"
  },
  "language_info": {
   "codemirror_mode": {
    "name": "ipython",
    "version": 3
   },
   "file_extension": ".py",
   "mimetype": "text/x-python",
   "name": "python",
   "nbconvert_exporter": "python",
   "pygments_lexer": "ipython3",
   "version": "3.6.12"
  }
 },
 "nbformat": 4,
 "nbformat_minor": 4
}
